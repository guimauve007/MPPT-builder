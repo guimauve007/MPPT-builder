{
 "cells": [
  {
   "attachments": {},
   "cell_type": "markdown",
   "metadata": {
    "editable": true,
    "id": "PJ0_6KCMjXfW",
    "jp-MarkdownHeadingCollapsed": true,
    "slideshow": {
     "slide_type": ""
    },
    "tags": []
   },
   "source": [
    "# Introduction\n",
    "***\n",
    "Cet outil permet de concevoir un survolteur (boost converter) en prévisualisant l'efficacité à l'aide des caractéristiques des composantes choisies. La topologie de base étudiée est la suivante (hard switching):\n",
    "![dcdc](assets/dcdc_boost.png)\n",
    "\n"
   ]
  },
  {
   "attachments": {},
   "cell_type": "markdown",
   "metadata": {
    "id": "_AcXbdNakBQl"
   },
   "source": [
    "# Entrées\n",
    "***\n",
    "Ici, on peut entrer les caractéristiques des composantes choisies pour le DCDC:"
   ]
  },
  {
   "cell_type": "code",
   "execution_count": 13,
   "metadata": {
    "id": "_AcXbdNakBQl"
   },
   "outputs": [],
   "source": [
    "# Inductance\n",
    "ind_value = 220 # en uH\n",
    "res_serie = 12 # en mOhm\n"
   ]
  },
  {
   "cell_type": "code",
   "execution_count": 14,
   "metadata": {},
   "outputs": [],
   "source": [
    "# Switching FET\n",
    "sw_r_ds = 11 # en mOhm\n",
    "sw_c_ds = 400 # en pF\n",
    "sw_on_off_tr = 31 # en ns -> temps de transition on-off"
   ]
  },
  {
   "cell_type": "code",
   "execution_count": 15,
   "metadata": {},
   "outputs": [],
   "source": [
    "# Rectifier FET\n",
    "re_r_ds = 13 # en mOhm"
   ]
  },
  {
   "cell_type": "markdown",
   "metadata": {},
   "source": [
    "# Équations\n",
    "***\n",
    "\n",
    "## Relation Vin/Vout\n",
    "La relation entre Vin et Vout peut-être représentée par l'équation suivante:\n",
    "\n",
    "$$\\frac{Vin}{Vout} = 1 - D$$\n",
    "<br>\n",
    "$$où\\ D = Duty\\ Cycle\\ (\\%)$$\n",
    "\n",
    "\n",
    "\n",
    "\n"
   ]
  },
  {
   "cell_type": "markdown",
   "metadata": {},
   "source": [
    "## Relation 2\n"
   ]
  },
  {
   "cell_type": "code",
   "execution_count": null,
   "metadata": {},
   "outputs": [],
   "source": []
  },
  {
   "cell_type": "code",
   "execution_count": null,
   "metadata": {},
   "outputs": [],
   "source": []
  },
  {
   "cell_type": "code",
   "execution_count": null,
   "metadata": {},
   "outputs": [],
   "source": []
  }
 ],
 "metadata": {
  "colab": {
   "authorship_tag": "ABX9TyPLHSOi8j8hJe4poA6ibyct",
   "include_colab_link": true,
   "provenance": [],
   "toc_visible": true
  },
  "kernelspec": {
   "display_name": "Python 3 (ipykernel)",
   "language": "python",
   "name": "python3"
  },
  "language_info": {
   "codemirror_mode": {
    "name": "ipython",
    "version": 3
   },
   "file_extension": ".py",
   "mimetype": "text/x-python",
   "name": "python",
   "nbconvert_exporter": "python",
   "pygments_lexer": "ipython3",
   "version": "3.10.7"
  }
 },
 "nbformat": 4,
 "nbformat_minor": 4
}
