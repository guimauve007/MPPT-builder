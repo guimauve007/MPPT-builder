{
 "cells": [
  {
   "attachments": {},
   "cell_type": "markdown",
   "metadata": {
    "editable": true,
    "id": "PJ0_6KCMjXfW",
    "jp-MarkdownHeadingCollapsed": true,
    "slideshow": {
     "slide_type": ""
    },
    "tags": []
   },
   "source": [
    "# Introduction\n",
    "***\n",
    "Cet outil permet de concevoir un survolteur (boost converter) en prévisualisant l'efficacité à l'aide des caractéristiques des composantes choisies. Deux types de topologie seront étudiés, La topologie de base étant la suivante (hard switching):\n",
    "![dcdc](assets/dcdc_boost.png)\n",
    "\n"
   ]
  },
  {
   "attachments": {},
   "cell_type": "markdown",
   "metadata": {
    "id": "_AcXbdNakBQl"
   },
   "source": [
    "# Entrées\n",
    "***\n",
    "Ici, on peut entrer les caractéristiques des composantes choisies pour le DCDC:"
   ]
  },
  {
   "cell_type": "code",
   "execution_count": 13,
   "metadata": {
    "id": "_AcXbdNakBQl"
   },
   "outputs": [],
   "source": [
    "# Inductance\n",
    "ind_value = 220 # en uH\n",
    "res_serie = 12 # en mOhm\n"
   ]
  },
  {
   "cell_type": "code",
   "execution_count": 6,
   "metadata": {},
   "outputs": [],
   "source": [
    "# Switching FET\n",
    "rds_sw = 11 # en mOhm\n",
    "cds_sw = 400 # en pF\n",
    "tsw = 31 # en ns -> temps de transition on-off"
   ]
  },
  {
   "cell_type": "code",
   "execution_count": 7,
   "metadata": {},
   "outputs": [],
   "source": [
    "# Rectifier FET\n",
    "rds_rect = 13 # en mOhm"
   ]
  },
  {
   "cell_type": "markdown",
   "metadata": {},
   "source": [
    "# Équations (topologie de base)\n",
    "***\n",
    "La section suivante présente les différentes relations que l'on peut retrouver dans la topologie de base.\n",
    "\n",
    "## Lexique\n",
    "Les différentes variables utilisées dans les équations sont définies ci-dessous:\n",
    "\n",
    "$$D=Duty\\ Cycle\\ (\\%)$$\n",
    "$$\\Delta i=Current\\ Ripple\\ (A)$$\n",
    "$$f=Frequency\\ (Hz)$$\n",
    "$$P=Période\\ (Secondes)$$\n",
    "$$L=Inductor\\ (H)$$\n",
    "\n",
    "## Duty Cycle\n",
    "Relation entre Vin & Vout:\n",
    "\n",
    "$$D=-\\frac{Vin}{Vout}+1$$\n",
    "\n",
    "\n",
    "\n"
   ]
  },
  {
   "cell_type": "code",
   "execution_count": 9,
   "metadata": {},
   "outputs": [],
   "source": [
    "def duty_cyle(vin, vout):\n",
    "    return -(vin/vout)+1"
   ]
  },
  {
   "cell_type": "markdown",
   "metadata": {},
   "source": [
    "## Ripple Current\n",
    "Variation de courant dans l'inductance:\n",
    "$$ \\Delta i=\\frac{vin*D}{f*L*2} $$\n"
   ]
  },
  {
   "cell_type": "code",
   "execution_count": 3,
   "metadata": {},
   "outputs": [],
   "source": [
    "def delta_i(vin, d, f, l):\n",
    "    return (vin*d)/(f*l*2)"
   ]
  },
  {
   "cell_type": "markdown",
   "metadata": {},
   "source": [
    "## Pertes de rectification\n",
    "Au lieu d'utiliser une diode pour la rectification du courant de sortie, on utilise un Mosfet avec une faible résistance en conduction. La perte induite dans cette composante est calculée comme suit:\n",
    "\n",
    "$$P_{loss}=(I_{out})^2*R_{DS}$$\n",
    "$$=>P_{loss}=((1-D)*I_{MPP})^2*R_{DS}$$"
   ]
  },
  {
   "cell_type": "code",
   "execution_count": 4,
   "metadata": {},
   "outputs": [],
   "source": [
    "def ploss_rectifier(d, impp, rds_rect):\n",
    "    return (((1-d)*impp)**2)*rds_rect"
   ]
  },
  {
   "cell_type": "markdown",
   "metadata": {},
   "source": [
    "## Pertes de commutation\n",
    "La perte de commutation est causée par le temps de commutation du mosfet principal. Cette perte est illustrée dans la figure suivante:\n",
    "\n",
    "![switching loss](assets/Switching-loss-of-MOSFETs-under-hard-switching.png)\n",
    "\n",
    "Afin de simplifier les calculs, on considérera la moyenne de T_on et T_off, nommé T_sw, pour calculer l'aire de la zone d'énergie dissipée. Pour une période complète, l'énergie perdue est calculée comme suit:\n",
    "\n",
    "$$E_{loss}=2*T_{SW}*I_{MPP}*V_{DS}$$\n",
    "\n",
    "La puissance totale dissipée à une fréquence donnée devient donc:\n",
    "\n",
    "$$P_{loss}=2*T_{SW}*I_{MPP}*V_{DS}*f$$\n"
   ]
  },
  {
   "cell_type": "code",
   "execution_count": 5,
   "metadata": {},
   "outputs": [],
   "source": [
    "def ploss_switching(tsw, impp, vds_sw, f):\n",
    "    return 2*tsw*impp*vds_sw*f"
   ]
  },
  {
   "cell_type": "markdown",
   "metadata": {},
   "source": [
    "## Pertes ESR (inductance)\n",
    "Pertes en DC de l'inductance principale par sa résistance interne:\n",
    "\n",
    "$$P_{loss}=R_L*[(I_{MPP})^2+\\frac{\\Delta I^2}{3}]$$"
   ]
  },
  {
   "cell_type": "code",
   "execution_count": null,
   "metadata": {},
   "outputs": [],
   "source": [
    "def ploss_inductor(rl, impp, delta_i):\n",
    "    return rl*((impp**2)*(delta_i**2)/3)"
   ]
  },
  {
   "cell_type": "markdown",
   "metadata": {},
   "source": [
    "## Pertes de commutation (Cds)\n",
    "Pertes de commutation lié au condensateur parallèle $C_{DS}$. Cette perte est causée par la décharge de celui-ci lorsque le Mosfet commute:\n",
    "\n",
    "$$P_{loss}=\\frac{1}{2}*C_{DS}*(V_{DS})^2*f$$"
   ]
  },
  {
   "cell_type": "code",
   "execution_count": 8,
   "metadata": {},
   "outputs": [],
   "source": [
    "def ploss_cds(cds, vds):\n",
    "    return (1/2)*cds*(vds**2)*f"
   ]
  }
 ],
 "metadata": {
  "colab": {
   "authorship_tag": "ABX9TyPLHSOi8j8hJe4poA6ibyct",
   "include_colab_link": true,
   "provenance": [],
   "toc_visible": true
  },
  "kernelspec": {
   "display_name": "Python 3 (ipykernel)",
   "language": "python",
   "name": "python3"
  },
  "language_info": {
   "codemirror_mode": {
    "name": "ipython",
    "version": 3
   },
   "file_extension": ".py",
   "mimetype": "text/x-python",
   "name": "python",
   "nbconvert_exporter": "python",
   "pygments_lexer": "ipython3",
   "version": "3.12.0rc3"
  }
 },
 "nbformat": 4,
 "nbformat_minor": 4
}
