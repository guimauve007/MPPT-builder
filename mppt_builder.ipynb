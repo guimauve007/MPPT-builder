{
 "cells": [
  {
   "cell_type": "markdown",
   "metadata": {
    "editable": true,
    "id": "PJ0_6KCMjXfW",
    "jp-MarkdownHeadingCollapsed": true,
    "tags": []
   },
   "source": [
    "# Introduction\n",
    "***\n",
    "Cet outil permet de concevoir un survolteur (boost converter) en prévisualisant l'efficacité à l'aide des caractéristiques des composantes choisies. Deux types de topologie seront étudiés, La topologie de base étant la suivante (hard switching):\n",
    "![dcdc](https://github.com/guimauve007/MPPT-builder/blob/main/assets/dcdc_boost.png?raw=1)\n",
    "\n"
   ]
  },
  {
   "cell_type": "markdown",
   "metadata": {
    "id": "_AcXbdNakBQl"
   },
   "source": [
    "# Entrées\n",
    "***\n",
    "Ici, on peut entrer les caractéristiques des composantes choisies pour le survolteur:"
   ]
  },
  {
   "cell_type": "code",
   "execution_count": 17,
   "metadata": {
    "id": "p2ldQDMmfPcq"
   },
   "outputs": [],
   "source": [
    "# Inductance\n",
    "L = 220*10**-6 # en H\n",
    "RL = 12*10**-3 # en Ohm\n"
   ]
  },
  {
   "cell_type": "code",
   "execution_count": 18,
   "metadata": {
    "id": "QHBjMaODfPcy"
   },
   "outputs": [],
   "source": [
    "# Switching FET\n",
    "RDS_SW = 11*10**-3 # en Ohm\n",
    "CDS_SW = 400*10**-12 # en F\n",
    "T_SW = 31*10**-9 # en s -> temps de transition on-off"
   ]
  },
  {
   "cell_type": "code",
   "execution_count": 19,
   "metadata": {
    "id": "dx7_kieSfPc0"
   },
   "outputs": [],
   "source": [
    "# Rectifier FET\n",
    "RDS_RECT = 13*10**-3 # en mOhm"
   ]
  },
  {
   "cell_type": "markdown",
   "metadata": {
    "id": "TZaF_gq-fPc1"
   },
   "source": [
    "# Équations (topologie de base)\n",
    "***\n",
    "La section suivante présente les différentes relations que l'on peut retrouver dans la topologie de base.\n",
    "\n",
    "## Lexique\n",
    "Les différentes variables utilisées dans les équations sont définies ci-dessous:\n",
    "\n",
    "$$D=Duty\\ Cycle\\ (\\%)$$\n",
    "$$\\Delta i=Current\\ Ripple\\ (A)$$\n",
    "$$f=Frequency\\ (Hz)$$\n",
    "$$P=Période\\ (Secondes)$$\n",
    "$$L=Inductor\\ (H)$$\n",
    "\n",
    "## Duty Cycle\n",
    "Relation entre Vin & Vout:\n",
    "\n",
    "$$D=-\\frac{Vin}{Vout}+1$$\n",
    "\n",
    "\n",
    "\n"
   ]
  },
  {
   "cell_type": "code",
   "execution_count": 20,
   "metadata": {
    "id": "KlnPnyqufPc3"
   },
   "outputs": [],
   "source": [
    "def duty_cyle(vin, vout):\n",
    "    return -(vin/vout)+1"
   ]
  },
  {
   "cell_type": "markdown",
   "metadata": {
    "id": "YC3BYUOefPc5"
   },
   "source": [
    "## Ripple Current\n",
    "Variation de courant dans l'inductance:\n",
    "$$ \\Delta i=\\frac{vin*D}{f*L*2} $$\n"
   ]
  },
  {
   "cell_type": "code",
   "execution_count": 21,
   "metadata": {
    "id": "BBHyS6XefPc7"
   },
   "outputs": [],
   "source": [
    "def delta_i(vin, d, f, l):\n",
    "    return (vin*d)/(f*l*2)"
   ]
  },
  {
   "cell_type": "markdown",
   "metadata": {
    "id": "jg5MjVjJfPc8"
   },
   "source": [
    "## Pertes de rectification\n",
    "Au lieu d'utiliser une diode pour la rectification du courant de sortie, on utilise un Mosfet avec une faible résistance en conduction. La perte induite dans cette composante est calculée comme suit:\n",
    "\n",
    "$$P_{loss}=(I_{out})^2*R_{DS}$$\n",
    "$$=>P_{loss}=((1-D)*I_{MPP})^2*R_{DS}$$"
   ]
  },
  {
   "cell_type": "code",
   "execution_count": 23,
   "metadata": {
    "id": "X-NwwiGTfPc-"
   },
   "outputs": [],
   "source": [
    "def ploss_rectifier(d, impp, rds_rect):\n",
    "    return (((1-d)*impp)**2)*rds_rect"
   ]
  },
  {
   "cell_type": "markdown",
   "metadata": {
    "id": "ykGAqVUdfPdA"
   },
   "source": [
    "## Pertes de commutation\n",
    "La perte de commutation est causée par le temps de commutation du mosfet principal. Cette perte est illustrée dans la figure suivante:\n",
    "\n",
    "![switching loss](https://github.com/guimauve007/MPPT-builder/blob/main/assets/Switching-loss-of-MOSFETs-under-hard-switching.png?raw=1)\n",
    "\n",
    "Afin de simplifier les calculs, on considérera la moyenne de T_on et T_off, nommé T_sw, pour calculer l'aire de la zone d'énergie dissipée. Pour une période complète, l'énergie perdue est calculée comme suit:\n",
    "\n",
    "$$E_{loss}=2*T_{SW}*I_{MPP}*V_{DS}$$\n",
    "\n",
    "La puissance totale dissipée à une fréquence donnée devient donc:\n",
    "\n",
    "$$P_{loss}=2*T_{SW}*I_{MPP}*V_{DS}*f$$\n"
   ]
  },
  {
   "cell_type": "code",
   "execution_count": 25,
   "metadata": {
    "id": "pQtKYTfGfPdB"
   },
   "outputs": [],
   "source": [
    "def ploss_switching(impp, f, t_sw, vout):\n",
    "    return 2*t_sw*impp*vout*f"
   ]
  },
  {
   "cell_type": "markdown",
   "metadata": {
    "id": "86-gnRkgfPdD"
   },
   "source": [
    "## Pertes ESR (inductance)\n",
    "Pertes en DC de l'inductance principale par sa résistance interne:\n",
    "\n",
    "$$P_{loss}=R_L*[(I_{MPP})^2+\\frac{\\Delta I^2}{3}]$$"
   ]
  },
  {
   "cell_type": "code",
   "execution_count": 27,
   "metadata": {
    "id": "JfEgndTrfPdE"
   },
   "outputs": [],
   "source": [
    "def ploss_inductor(impp, delta_i, rl):\n",
    "    return rl*((impp**2)*(delta_i**2)/3)"
   ]
  },
  {
   "cell_type": "markdown",
   "metadata": {
    "id": "1V6GAVuufPdF"
   },
   "source": [
    "## Pertes de commutation (Cds)\n",
    "Pertes de commutation lié au condensateur parallèle $C_{DS}$. Cette perte est causée par la décharge de celui-ci lorsque le Mosfet commute:\n",
    "\n",
    "$$P_{loss}=\\frac{1}{2}*C_{DS}*(V_{out})^2*f$$"
   ]
  },
  {
   "cell_type": "code",
   "execution_count": 29,
   "metadata": {
    "id": "jqsRQ8BWfPdG"
   },
   "outputs": [],
   "source": [
    "def ploss_cds(f, vout, cds_sw):\n",
    "    return (1/2)*cds_sw*(vout**2)*f"
   ]
  },
  {
   "cell_type": "markdown",
   "metadata": {
    "id": "yeKC8LJ9nPRU"
   },
   "source": [
    "# Pertes totales\n"
   ]
  },
  {
   "cell_type": "code",
   "execution_count": 30,
   "metadata": {
    "id": "J755JZ-PnbTt"
   },
   "outputs": [],
   "source": [
    "def ploss_tot(f, i_mpp, vin, vout):\n",
    "\n",
    "  # caractéristiques du hacheur\n",
    "  l = L\n",
    "  rl = RL\n",
    "  rds_sw = RDS_SW\n",
    "  cds_sw = CDS_SW\n",
    "  t_sw = T_SW\n",
    "  rds_rect = RDS_RECT\n",
    "\n",
    "  # variables de fonctionnement\n",
    "  d = duty_cyle(vin, vout)\n",
    "  di = delta_i(vin, d, f, l)\n",
    "\n",
    "  # pertes totales\n",
    "  return ploss_rectifier(d, i_mpp, rds_rect) + ploss_switching(i_mpp, f, t_sw, vout) + ploss_inductor(i_mpp, di, rl) + ploss_cds(f, vout, cds_sw)"
   ]
  },
  {
   "cell_type": "code",
   "execution_count": 31,
   "metadata": {
    "id": "ZMqs7N0Myjop"
   },
   "outputs": [],
   "source": [
    "def efficiency(f, i_mpp, vin, vout):\n",
    "  p_in = vin*i_mpp\n",
    "  p_out = p_in - ploss_tot(f, i_mpp, vin, vout)\n",
    "\n",
    "  return p_out/p_in"
   ]
  },
  {
   "cell_type": "code",
   "execution_count": 37,
   "metadata": {},
   "outputs": [
    {
     "data": {
      "image/png": "[encoded data removed]",
      "text/plain": [
       "<Figure size 640x480 with 1 Axes>"
      ]
     },
     "metadata": {},
     "output_type": "display_data"
    }
   ],
   "source": [
    "import numpy as np\n",
    "import matplotlib.pyplot as plt\n",
    "\n",
    "FREQUENCY = 100000\n",
    "V_OUT = 120\n",
    "\n",
    "current = np.arange(0.1, 7.1, 0.1)\n",
    "E_30V = []\n",
    "E_40V = []\n",
    "E_50V = []\n",
    "\n",
    "for i in current:\n",
    "    E_30V.append(efficiency(FREQUENCY, i, 30, V_OUT))\n",
    "    E_40V.append(efficiency(FREQUENCY, i, 40, V_OUT))\n",
    "    E_50V.append(efficiency(FREQUENCY, i, 50, V_OUT))\n",
    "\n",
    "plt.plot(current, E_30V, color='r', label=\"V_MPP = 30V\")\n",
    "plt.plot(current, E_40V, color='g', label=\"V_MPP = 40V\")\n",
    "plt.plot(current, E_50V, color='b', label=\"V_MPP = 50V\")\n",
    "\n",
    "plt.xlabel(\"I_MPP\") \n",
    "plt.ylabel(\"Efficiency\")\n",
    "plt.legend() \n",
    "plt.title(\"Efficiency at I_MPP (Vout=120 V)\") \n",
    "\n",
    "plt.show()"
   ]
  }
 ],
 "metadata": {
  "colab": {
   "provenance": [],
   "toc_visible": true
  },
  "kernelspec": {
   "display_name": "Python 3 (ipykernel)",
   "language": "python",
   "name": "python3"
  },
  "language_info": {
   "codemirror_mode": {
    "name": "ipython",
    "version": 3
   },
   "file_extension": ".py",
   "mimetype": "text/x-python",
   "name": "python",
   "nbconvert_exporter": "python",
   "pygments_lexer": "ipython3",
   "version": "3.10.7"
  }
 },
 "nbformat": 4,
 "nbformat_minor": 4
}
